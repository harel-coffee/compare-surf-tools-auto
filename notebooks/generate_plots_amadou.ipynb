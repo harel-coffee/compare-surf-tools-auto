{
 "cells": [
  {
   "cell_type": "markdown",
   "metadata": {},
   "source": [
    "## Driver code generating brain-maps\n",
    "\n",
    "### Steps\n",
    "- import stat csvs \n",
    "- visualize quantitative performance  \n",
    "- visualize brain regions"
   ]
  },
  {
   "cell_type": "code",
   "execution_count": 1,
   "metadata": {},
   "outputs": [
    {
     "name": "stdout",
     "output_type": "stream",
     "text": [
      "Notebook initialized with x3d backend.\n",
      "env: SUBJECTS_DIR=/home/nikhil/projects/CT_reproduce/code/compare-surf-tools/config\n"
     ]
    }
   ],
   "source": [
    "import os\n",
    "import sys\n",
    "import numpy as np\n",
    "import pandas as pd\n",
    "import itertools\n",
    "import pickle\n",
    "import time\n",
    "from scipy.spatial import distance\n",
    "from scipy import stats\n",
    "\n",
    "import matplotlib.pyplot as plt\n",
    "import seaborn as sns\n",
    "\n",
    "import nibabel as nib\n",
    "\n",
    "from surfer import Brain\n",
    "from mayavi import mlab\n",
    "\n",
    "from tvtk.api import tvtk\n",
    "from tvtk.common import configure_input_data\n",
    "\n",
    "mlab.init_notebook()\n",
    "mlab.options.offscreen = False\n",
    "\n",
    "# %matplotlib inline\n",
    "\n",
    "#%env SUBJECTS_DIR=/home/nikhil/projects/CT_reproduce/data/fs_output/subjects\n",
    "%env SUBJECTS_DIR=/home/nikhil/projects/CT_reproduce/code/compare-surf-tools/config\n",
    "\n",
    "sys.path.append('../')\n",
    "from lib.plot_utils import *\n",
    "from lib.data_stats import aggregate_perf"
   ]
  },
  {
   "cell_type": "markdown",
   "metadata": {},
   "source": [
    "### Global Vars"
   ]
  },
  {
   "cell_type": "code",
   "execution_count": 2,
   "metadata": {},
   "outputs": [],
   "source": [
    "subject_ID_col = 'SubjID'"
   ]
  },
  {
   "cell_type": "markdown",
   "metadata": {},
   "source": [
    "### Data paths"
   ]
  },
  {
   "cell_type": "code",
   "execution_count": 3,
   "metadata": {
    "scrolled": true
   },
   "outputs": [],
   "source": [
    "proj_dir = '/home/nikhil/projects/CT_reproduce/'\n",
    "data_dir = proj_dir + 'code/compare-surf-tools/data/Amadou/'\n",
    "results_dir = data_dir + 'results/'\n",
    "\n",
    "common_space = proj_dir + 'code/compare-surf-tools/config/fsaverage/'\n",
    "demograph_file = 'ABIDE_Phenotype.csv'\n",
    "\n",
    "outlier_QC_file = proj_dir + 'data/fs_output/fs60_vertex_out_sample/abide_fs60_vout_fwhm0_lh_SubjectIDFormatted_test20.csv'\n",
    "    \n",
    "#abide_fs60_vout_fwhm0_lh_SubjectIDFormatted_test_nonzero.csv'\n",
    "\n",
    "#abide_fs60_vout_fwhm0_lh_SubjectIDFormatted_test20.csv'\n",
    "\n",
    "brain_coef_file = data_dir + 'out_coef_est_left_right_hem_con.csv'\n",
    "\n"
   ]
  },
  {
   "cell_type": "code",
   "execution_count": 4,
   "metadata": {},
   "outputs": [
    {
     "name": "stdout",
     "output_type": "stream",
     "text": [
      "(20, 163842)\n"
     ]
    },
    {
     "data": {
      "text/html": [
       "<div>\n",
       "<style scoped>\n",
       "    .dataframe tbody tr th:only-of-type {\n",
       "        vertical-align: middle;\n",
       "    }\n",
       "\n",
       "    .dataframe tbody tr th {\n",
       "        vertical-align: top;\n",
       "    }\n",
       "\n",
       "    .dataframe thead th {\n",
       "        text-align: right;\n",
       "    }\n",
       "</style>\n",
       "<table border=\"1\" class=\"dataframe\">\n",
       "  <thead>\n",
       "    <tr style=\"text-align: right;\">\n",
       "      <th></th>\n",
       "      <th>1</th>\n",
       "      <th>2</th>\n",
       "      <th>3</th>\n",
       "      <th>4</th>\n",
       "      <th>5</th>\n",
       "      <th>6</th>\n",
       "      <th>7</th>\n",
       "      <th>8</th>\n",
       "      <th>9</th>\n",
       "      <th>10</th>\n",
       "      <th>...</th>\n",
       "      <th>163833</th>\n",
       "      <th>163834</th>\n",
       "      <th>163835</th>\n",
       "      <th>163836</th>\n",
       "      <th>163837</th>\n",
       "      <th>163838</th>\n",
       "      <th>163839</th>\n",
       "      <th>163840</th>\n",
       "      <th>163841</th>\n",
       "      <th>163842</th>\n",
       "    </tr>\n",
       "    <tr>\n",
       "      <th>0</th>\n",
       "      <th></th>\n",
       "      <th></th>\n",
       "      <th></th>\n",
       "      <th></th>\n",
       "      <th></th>\n",
       "      <th></th>\n",
       "      <th></th>\n",
       "      <th></th>\n",
       "      <th></th>\n",
       "      <th></th>\n",
       "      <th></th>\n",
       "      <th></th>\n",
       "      <th></th>\n",
       "      <th></th>\n",
       "      <th></th>\n",
       "      <th></th>\n",
       "      <th></th>\n",
       "      <th></th>\n",
       "      <th></th>\n",
       "      <th></th>\n",
       "      <th></th>\n",
       "    </tr>\n",
       "  </thead>\n",
       "  <tbody>\n",
       "    <tr>\n",
       "      <th>50822</th>\n",
       "      <td>3.208331</td>\n",
       "      <td>2.798306</td>\n",
       "      <td>3.128718</td>\n",
       "      <td>2.688519</td>\n",
       "      <td>2.316996</td>\n",
       "      <td>2.963104</td>\n",
       "      <td>1.657561</td>\n",
       "      <td>2.142612</td>\n",
       "      <td>0.0</td>\n",
       "      <td>2.212142</td>\n",
       "      <td>...</td>\n",
       "      <td>2.517141</td>\n",
       "      <td>2.473430</td>\n",
       "      <td>2.547213</td>\n",
       "      <td>2.339146</td>\n",
       "      <td>2.240880</td>\n",
       "      <td>2.369286</td>\n",
       "      <td>2.369286</td>\n",
       "      <td>2.146807</td>\n",
       "      <td>2.937431</td>\n",
       "      <td>2.469401</td>\n",
       "    </tr>\n",
       "    <tr>\n",
       "      <th>50804</th>\n",
       "      <td>3.061759</td>\n",
       "      <td>2.824523</td>\n",
       "      <td>3.282296</td>\n",
       "      <td>2.063624</td>\n",
       "      <td>2.627452</td>\n",
       "      <td>2.080930</td>\n",
       "      <td>1.793162</td>\n",
       "      <td>3.370214</td>\n",
       "      <td>0.0</td>\n",
       "      <td>2.785667</td>\n",
       "      <td>...</td>\n",
       "      <td>3.005616</td>\n",
       "      <td>3.005616</td>\n",
       "      <td>3.308608</td>\n",
       "      <td>3.235539</td>\n",
       "      <td>3.034177</td>\n",
       "      <td>2.756553</td>\n",
       "      <td>2.940214</td>\n",
       "      <td>2.940214</td>\n",
       "      <td>3.059146</td>\n",
       "      <td>2.693932</td>\n",
       "    </tr>\n",
       "    <tr>\n",
       "      <th>50785</th>\n",
       "      <td>3.006796</td>\n",
       "      <td>1.717444</td>\n",
       "      <td>3.108061</td>\n",
       "      <td>2.476269</td>\n",
       "      <td>3.298360</td>\n",
       "      <td>3.745053</td>\n",
       "      <td>2.522156</td>\n",
       "      <td>3.261147</td>\n",
       "      <td>0.0</td>\n",
       "      <td>3.809771</td>\n",
       "      <td>...</td>\n",
       "      <td>2.269003</td>\n",
       "      <td>2.678508</td>\n",
       "      <td>2.857566</td>\n",
       "      <td>2.857566</td>\n",
       "      <td>2.901811</td>\n",
       "      <td>2.162125</td>\n",
       "      <td>2.585969</td>\n",
       "      <td>2.901811</td>\n",
       "      <td>3.216961</td>\n",
       "      <td>3.191573</td>\n",
       "    </tr>\n",
       "    <tr>\n",
       "      <th>50824</th>\n",
       "      <td>3.227396</td>\n",
       "      <td>2.405693</td>\n",
       "      <td>2.835940</td>\n",
       "      <td>2.251794</td>\n",
       "      <td>2.970711</td>\n",
       "      <td>2.914946</td>\n",
       "      <td>2.480084</td>\n",
       "      <td>2.477637</td>\n",
       "      <td>0.0</td>\n",
       "      <td>3.136363</td>\n",
       "      <td>...</td>\n",
       "      <td>2.368923</td>\n",
       "      <td>2.524720</td>\n",
       "      <td>2.793200</td>\n",
       "      <td>2.969027</td>\n",
       "      <td>3.116255</td>\n",
       "      <td>2.811805</td>\n",
       "      <td>3.073762</td>\n",
       "      <td>3.233306</td>\n",
       "      <td>3.233306</td>\n",
       "      <td>3.085860</td>\n",
       "    </tr>\n",
       "    <tr>\n",
       "      <th>50788</th>\n",
       "      <td>2.697372</td>\n",
       "      <td>1.852928</td>\n",
       "      <td>2.135762</td>\n",
       "      <td>2.679585</td>\n",
       "      <td>2.768558</td>\n",
       "      <td>3.010654</td>\n",
       "      <td>2.030148</td>\n",
       "      <td>2.182316</td>\n",
       "      <td>0.0</td>\n",
       "      <td>2.998781</td>\n",
       "      <td>...</td>\n",
       "      <td>2.594051</td>\n",
       "      <td>2.620714</td>\n",
       "      <td>2.597672</td>\n",
       "      <td>2.425314</td>\n",
       "      <td>2.375470</td>\n",
       "      <td>2.941518</td>\n",
       "      <td>2.517521</td>\n",
       "      <td>2.468694</td>\n",
       "      <td>2.511143</td>\n",
       "      <td>2.460844</td>\n",
       "    </tr>\n",
       "  </tbody>\n",
       "</table>\n",
       "<p>5 rows × 163842 columns</p>\n",
       "</div>"
      ],
      "text/plain": [
       "         1         2         3         4         5         6         7       \\\n",
       "0                                                                             \n",
       "50822  3.208331  2.798306  3.128718  2.688519  2.316996  2.963104  1.657561   \n",
       "50804  3.061759  2.824523  3.282296  2.063624  2.627452  2.080930  1.793162   \n",
       "50785  3.006796  1.717444  3.108061  2.476269  3.298360  3.745053  2.522156   \n",
       "50824  3.227396  2.405693  2.835940  2.251794  2.970711  2.914946  2.480084   \n",
       "50788  2.697372  1.852928  2.135762  2.679585  2.768558  3.010654  2.030148   \n",
       "\n",
       "         8       9         10      ...    163833    163834    163835  \\\n",
       "0                                  ...                                 \n",
       "50822  2.142612     0.0  2.212142  ...  2.517141  2.473430  2.547213   \n",
       "50804  3.370214     0.0  2.785667  ...  3.005616  3.005616  3.308608   \n",
       "50785  3.261147     0.0  3.809771  ...  2.269003  2.678508  2.857566   \n",
       "50824  2.477637     0.0  3.136363  ...  2.368923  2.524720  2.793200   \n",
       "50788  2.182316     0.0  2.998781  ...  2.594051  2.620714  2.597672   \n",
       "\n",
       "         163836    163837    163838    163839    163840    163841    163842  \n",
       "0                                                                            \n",
       "50822  2.339146  2.240880  2.369286  2.369286  2.146807  2.937431  2.469401  \n",
       "50804  3.235539  3.034177  2.756553  2.940214  2.940214  3.059146  2.693932  \n",
       "50785  2.857566  2.901811  2.162125  2.585969  2.901811  3.216961  3.191573  \n",
       "50824  2.969027  3.116255  2.811805  3.073762  3.233306  3.233306  3.085860  \n",
       "50788  2.425314  2.375470  2.941518  2.517521  2.468694  2.511143  2.460844  \n",
       "\n",
       "[5 rows x 163842 columns]"
      ]
     },
     "execution_count": 4,
     "metadata": {},
     "output_type": "execute_result"
    }
   ],
   "source": [
    "outlier_QC = pd.read_csv(outlier_QC_file,index_col=[0],header=None)\n",
    "print(outlier_QC.shape)\n",
    "\n",
    "mean_thickness = outlier_QC.mean(axis=0)\n",
    "outlier_QC.head()"
   ]
  },
  {
   "cell_type": "code",
   "execution_count": 5,
   "metadata": {},
   "outputs": [
    {
     "data": {
      "text/plain": [
       "<matplotlib.axes._subplots.AxesSubplot at 0x7f8c465392b0>"
      ]
     },
     "execution_count": 5,
     "metadata": {},
     "output_type": "execute_result"
    },
    {
     "data": {
      "image/png": "[encoded data removed]",
      "text/plain": [
       "<Figure size 432x288 with 1 Axes>"
      ]
     },
     "metadata": {
      "needs_background": "light"
     },
     "output_type": "display_data"
    }
   ],
   "source": [
    "sns.distplot(mean_thickness)"
   ]
  },
  {
   "cell_type": "code",
   "execution_count": 35,
   "metadata": {
    "scrolled": true
   },
   "outputs": [
    {
     "name": "stdout",
     "output_type": "stream",
     "text": [
      "(299881, 6)\n"
     ]
    },
    {
     "data": {
      "text/html": [
       "<div>\n",
       "<style scoped>\n",
       "    .dataframe tbody tr th:only-of-type {\n",
       "        vertical-align: middle;\n",
       "    }\n",
       "\n",
       "    .dataframe tbody tr th {\n",
       "        vertical-align: top;\n",
       "    }\n",
       "\n",
       "    .dataframe thead th {\n",
       "        text-align: right;\n",
       "    }\n",
       "</style>\n",
       "<table border=\"1\" class=\"dataframe\">\n",
       "  <thead>\n",
       "    <tr style=\"text-align: right;\">\n",
       "      <th></th>\n",
       "      <th>vertex_name</th>\n",
       "      <th>lasso_coef</th>\n",
       "      <th>asym_him_coef</th>\n",
       "      <th>asym_mip_coef</th>\n",
       "      <th>mip_coef</th>\n",
       "      <th>him_coef</th>\n",
       "    </tr>\n",
       "  </thead>\n",
       "  <tbody>\n",
       "    <tr>\n",
       "      <th>0</th>\n",
       "      <td>vertex1</td>\n",
       "      <td>0.0</td>\n",
       "      <td>0.0</td>\n",
       "      <td>0.0</td>\n",
       "      <td>0.0</td>\n",
       "      <td>0.0</td>\n",
       "    </tr>\n",
       "    <tr>\n",
       "      <th>1</th>\n",
       "      <td>vertex2</td>\n",
       "      <td>0.0</td>\n",
       "      <td>0.0</td>\n",
       "      <td>0.0</td>\n",
       "      <td>0.0</td>\n",
       "      <td>0.0</td>\n",
       "    </tr>\n",
       "    <tr>\n",
       "      <th>2</th>\n",
       "      <td>vertex3</td>\n",
       "      <td>0.0</td>\n",
       "      <td>0.0</td>\n",
       "      <td>0.0</td>\n",
       "      <td>0.0</td>\n",
       "      <td>0.0</td>\n",
       "    </tr>\n",
       "    <tr>\n",
       "      <th>3</th>\n",
       "      <td>vertex4</td>\n",
       "      <td>0.0</td>\n",
       "      <td>0.0</td>\n",
       "      <td>0.0</td>\n",
       "      <td>0.0</td>\n",
       "      <td>0.0</td>\n",
       "    </tr>\n",
       "    <tr>\n",
       "      <th>4</th>\n",
       "      <td>vertex5</td>\n",
       "      <td>0.0</td>\n",
       "      <td>0.0</td>\n",
       "      <td>0.0</td>\n",
       "      <td>0.0</td>\n",
       "      <td>0.0</td>\n",
       "    </tr>\n",
       "  </tbody>\n",
       "</table>\n",
       "</div>"
      ],
      "text/plain": [
       "  vertex_name  lasso_coef  asym_him_coef  asym_mip_coef  mip_coef  him_coef\n",
       "0     vertex1         0.0            0.0            0.0       0.0       0.0\n",
       "1     vertex2         0.0            0.0            0.0       0.0       0.0\n",
       "2     vertex3         0.0            0.0            0.0       0.0       0.0\n",
       "3     vertex4         0.0            0.0            0.0       0.0       0.0\n",
       "4     vertex5         0.0            0.0            0.0       0.0       0.0"
      ]
     },
     "execution_count": 35,
     "metadata": {},
     "output_type": "execute_result"
    }
   ],
   "source": [
    "brain_coef = pd.read_csv(brain_coef_file)\n",
    "print(brain_coef.shape)\n",
    "brain_coef.head()"
   ]
  },
  {
   "cell_type": "markdown",
   "metadata": {},
   "source": [
    "### Distribution of coefs"
   ]
  },
  {
   "cell_type": "code",
   "execution_count": 21,
   "metadata": {},
   "outputs": [
    {
     "data": {
      "text/plain": [
       "<matplotlib.axes._subplots.AxesSubplot at 0x7f153a990860>"
      ]
     },
     "execution_count": 21,
     "metadata": {},
     "output_type": "execute_result"
    },
    {
     "data": {
      "image/png": "[encoded data removed]",
      "text/plain": [
       "<Figure size 432x288 with 1 Axes>"
      ]
     },
     "metadata": {
      "needs_background": "light"
     },
     "output_type": "display_data"
    }
   ],
   "source": [
    "sns.distplot(brain_coef['lasso_coef'])\n",
    "sns.distplot(brain_coef['asym_him_coef'])\n",
    "sns.distplot(brain_coef['asym_mip_coef'])\n",
    "sns.distplot(brain_coef['mip_coef'])\n",
    "sns.distplot(brain_coef['him_coef'])\n"
   ]
  },
  {
   "cell_type": "markdown",
   "metadata": {},
   "source": [
    "## PySurfer plots"
   ]
  },
  {
   "cell_type": "code",
   "execution_count": 37,
   "metadata": {},
   "outputs": [],
   "source": [
    "def plot_vertex_maps(vertex_data, common_space, hemi, surf, view, cmap, save_path):\n",
    "\n",
    "    b = Brain(common_space, hemi, surf, background=\"white\",views=view)\n",
    "\n",
    "    # co-ordinates\n",
    "    x, y, z = b.geo[hemi].coords.T\n",
    "    tris = b.geo[hemi].faces\n",
    "\n",
    "    b.add_data(vertex_data,colormap=cmap, alpha=1, colorbar=True)\n",
    "\n",
    "    print('Saving surface plot here: {}'.format(save_path))\n",
    "    b.save_image(save_path)\n",
    "    \n",
    "def discrete_cmap(N, base_cmap=None):\n",
    "    \"\"\"Create an N-bin discrete colormap from the specified input map\"\"\"\n",
    "\n",
    "    # Note that if base_cmap is a string or None, you can simply do\n",
    "    #    return plt.cm.get_cmap(base_cmap, N)\n",
    "    # The following works for string, None, or a colormap instance:\n",
    "\n",
    "    base = plt.cm.get_cmap(base_cmap)\n",
    "    color_list = base(np.linspace(0, 1, N))\n",
    "    cmap_name = base.name + str(N)\n",
    "    return base.from_list(cmap_name, color_list, N)"
   ]
  },
  {
   "cell_type": "code",
   "execution_count": 46,
   "metadata": {},
   "outputs": [
    {
     "name": "stdout",
     "output_type": "stream",
     "text": [
      "colormap sequential: [0.00e+00, 2.24e+00, 4.48e+00] (opaque)\n",
      "Saving surface plot here: /home/nikhil/projects/CT_reproduce/code/compare-surf-tools/data/Amadou/results/CT_test_lh_lateral.png\n",
      "colormap sequential: [0.00e+00, 2.24e+00, 4.48e+00] (opaque)\n",
      "Saving surface plot here: /home/nikhil/projects/CT_reproduce/code/compare-surf-tools/data/Amadou/results/CT_test_lh_medial.png\n"
     ]
    }
   ],
   "source": [
    "surf = 'white' #'white' #\"inflated\"\n",
    "subjects_dir = os.environ['SUBJECTS_DIR']\n",
    "\n",
    "hemis = ['lh']\n",
    "views = ['lateral','medial']\n",
    "\n",
    "cmap = discrete_cmap(10,'YlOrBr') #plt.cmap('hot',10)\n",
    "\n",
    "for hemi in hemis:\n",
    "    for view in views:\n",
    "        save_path = results_dir + 'CT_test_{}_{}.png'.format(hemi,view)        \n",
    "        plot_vertex_maps(mean_thickness, common_space, hemi, surf, view, cmap, save_path)\n"
   ]
  },
  {
   "cell_type": "code",
   "execution_count": null,
   "metadata": {},
   "outputs": [],
   "source": []
  }
 ],
 "metadata": {
  "kernelspec": {
   "display_name": "Python 3",
   "language": "python",
   "name": "python3"
  },
  "language_info": {
   "codemirror_mode": {
    "name": "ipython",
    "version": 3
   },
   "file_extension": ".py",
   "mimetype": "text/x-python",
   "name": "python",
   "nbconvert_exporter": "python",
   "pygments_lexer": "ipython3",
   "version": "3.7.3"
  }
 },
 "nbformat": 4,
 "nbformat_minor": 2
}
