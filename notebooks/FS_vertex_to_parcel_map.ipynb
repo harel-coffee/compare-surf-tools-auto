{
 "cells": [
  {
   "cell_type": "markdown",
   "metadata": {},
   "source": [
    "### Code to map FS cortical surface vertices to the DKT parcellation\n",
    "\n",
    "### Requires\n",
    "    - nibabel\n",
    "\n",
    "### Notes\n",
    "    - The index of `vertex_parcel_map` denote the vertex id. "
   ]
  },
  {
   "cell_type": "code",
   "execution_count": 1,
   "metadata": {},
   "outputs": [],
   "source": [
    "import nibabel as nib"
   ]
  },
  {
   "cell_type": "code",
   "execution_count": 12,
   "metadata": {},
   "outputs": [
    {
     "name": "stdout",
     "output_type": "stream",
     "text": [
      "hemisphere: rh\n",
      "number of vertices: 163842\n",
      "number of unique vertex-labels: 32\n",
      "number of parcels: 36\n"
     ]
    }
   ],
   "source": [
    "hemisphere = \"rh\" # \"lh\" or \"rh\"\n",
    "annot_path = f\"../data/Amadou/DKT/{hemisphere}.aparc.DKTatlas40.annot\"\n",
    "\n",
    "annot = nib.freesurfer.io.read_annot(annot_path, orig_ids=False)\n",
    "\n",
    "# read vertex - parcel label map\n",
    "vertex_parcel_map = annot[0]\n",
    "unique_labels = set(vertex_parcel_map)\n",
    "n_unique_labels = len(unique_labels)\n",
    "n_vertices = len(vertex_parcel_map)\n",
    "\n",
    "# read parcel names (has extra unused names)\n",
    "parcel_names = annot[2]\n",
    "n_parcels = len(parcel_names)\n",
    "\n",
    "print(f\"hemisphere: {hemisphere}\\n\"\n",
    "        f\"number of vertices: {n_vertices}\\n\"\n",
    "        f\"number of unique vertex-labels: {n_unique_labels}\\n\"\n",
    "        f\"number of parcels: {n_parcels}\")"
   ]
  }
 ],
 "metadata": {
  "interpreter": {
   "hash": "999c495fe9dc36b558f9181c52eb411f8d79bcfd8fb93141da57ede7d0ce5d9c"
  },
  "kernelspec": {
   "display_name": "Python 3.7.0 ('green_compute')",
   "language": "python",
   "name": "python3"
  },
  "language_info": {
   "codemirror_mode": {
    "name": "ipython",
    "version": 3
   },
   "file_extension": ".py",
   "mimetype": "text/x-python",
   "name": "python",
   "nbconvert_exporter": "python",
   "pygments_lexer": "ipython3",
   "version": "3.7.0"
  },
  "orig_nbformat": 4
 },
 "nbformat": 4,
 "nbformat_minor": 2
}
