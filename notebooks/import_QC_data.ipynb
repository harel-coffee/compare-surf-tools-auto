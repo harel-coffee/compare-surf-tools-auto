{
 "cells": [
  {
   "cell_type": "markdown",
   "metadata": {},
   "source": [
    "## Code for importing (manual) QC files from various raters\n",
    "### Gleb: MNI, JB (Only for CIVET)\n",
    "- 1: good image \n",
    "- +-1: acceptable image \n",
    "- -1: unacceptable image \n",
    "- 0 - really bad image\n",
    "\n",
    "### maarten: UMass, DK (Raw MR images)\n",
    "- Comprises multiple stages of QC\n",
    "- Complete Pass: '0s' in all MRI*QC columns"
   ]
  },
  {
   "cell_type": "code",
   "execution_count": 7,
   "metadata": {},
   "outputs": [],
   "source": [
    "# basic imports\n",
    "import numpy as np\n",
    "import pandas as pd\n",
    "import matplotlib.pyplot as plt\n",
    "import seaborn as sns"
   ]
  },
  {
   "cell_type": "markdown",
   "metadata": {},
   "source": [
    "### Read Data"
   ]
  },
  {
   "cell_type": "code",
   "execution_count": 8,
   "metadata": {},
   "outputs": [],
   "source": [
    "proj_dir = '/home/nikhil/projects/CT_reproduce/'\n",
    "data_dir = proj_dir + 'data/'\n",
    "qc_dir = data_dir + 'QC/'\n",
    "gleb_abide1 = qc_dir + 'John_Gleb/QCfile_20161104_141502_noTypos.csv' \n",
    "maarten_abide1 = qc_dir + 'DK/fenotype_data.csv' "
   ]
  },
  {
   "cell_type": "code",
   "execution_count": 9,
   "metadata": {},
   "outputs": [],
   "source": [
    "gleb_abide1_df = pd.read_csv(gleb_abide1,header=None,delimiter=',')\n",
    "maarten_abide1_df = pd.read_csv(maarten_abide1,dtype={'SUB_ID': str})\n",
    "gleb_abide1_df = gleb_abide1_df.rename(columns={0:'subject_id_long',1:'QC_description'})"
   ]
  },
  {
   "cell_type": "markdown",
   "metadata": {},
   "source": [
    "### Parse Gleb data"
   ]
  },
  {
   "cell_type": "code",
   "execution_count": 10,
   "metadata": {
    "scrolled": true
   },
   "outputs": [
    {
     "data": {
      "text/html": [
       "<div>\n",
       "<style scoped>\n",
       "    .dataframe tbody tr th:only-of-type {\n",
       "        vertical-align: middle;\n",
       "    }\n",
       "\n",
       "    .dataframe tbody tr th {\n",
       "        vertical-align: top;\n",
       "    }\n",
       "\n",
       "    .dataframe thead th {\n",
       "        text-align: right;\n",
       "    }\n",
       "</style>\n",
       "<table border=\"1\" class=\"dataframe\">\n",
       "  <thead>\n",
       "    <tr style=\"text-align: right;\">\n",
       "      <th></th>\n",
       "      <th>Site_ID</th>\n",
       "      <th>SubjID</th>\n",
       "      <th>QC_gleb</th>\n",
       "      <th>description_gleb</th>\n",
       "    </tr>\n",
       "  </thead>\n",
       "  <tbody>\n",
       "    <tr>\n",
       "      <th>1026</th>\n",
       "      <td>Yale</td>\n",
       "      <td>0050624</td>\n",
       "      <td>-1</td>\n",
       "      <td>NaN</td>\n",
       "    </tr>\n",
       "    <tr>\n",
       "      <th>1027</th>\n",
       "      <td>Yale</td>\n",
       "      <td>0050625</td>\n",
       "      <td>-1</td>\n",
       "      <td>NO IMAGES AVAILABLE FOR THIS SCAN!)</td>\n",
       "    </tr>\n",
       "    <tr>\n",
       "      <th>1028</th>\n",
       "      <td>Yale</td>\n",
       "      <td>0050626</td>\n",
       "      <td>-1</td>\n",
       "      <td>NaN</td>\n",
       "    </tr>\n",
       "    <tr>\n",
       "      <th>1029</th>\n",
       "      <td>Yale</td>\n",
       "      <td>0050627</td>\n",
       "      <td>-1</td>\n",
       "      <td>NaN</td>\n",
       "    </tr>\n",
       "    <tr>\n",
       "      <th>1030</th>\n",
       "      <td>Yale</td>\n",
       "      <td>0050628</td>\n",
       "      <td>-1</td>\n",
       "      <td>NaN</td>\n",
       "    </tr>\n",
       "  </tbody>\n",
       "</table>\n",
       "</div>"
      ],
      "text/plain": [
       "     Site_ID   SubjID QC_gleb                     description_gleb\n",
       "1026    Yale  0050624      -1                                  NaN\n",
       "1027    Yale  0050625      -1  NO IMAGES AVAILABLE FOR THIS SCAN!)\n",
       "1028    Yale  0050626      -1                                  NaN\n",
       "1029    Yale  0050627      -1                                  NaN\n",
       "1030    Yale  0050628      -1                                  NaN"
      ]
     },
     "execution_count": 10,
     "metadata": {},
     "output_type": "execute_result"
    }
   ],
   "source": [
    "tmp_df = gleb_abide1_df['subject_id_long'].str.split('+', 2, expand=True)\n",
    "gleb_abide1_df['QC_gleb'], gleb_abide1_df['description_gleb'] = gleb_abide1_df['QC_description'].str.split('(', 1).str\n",
    "\n",
    "gleb_abide1_df[['Site_ID','SubjID']]=tmp_df[[0,1]]\n",
    "gleb_abide1_df = gleb_abide1_df[['Site_ID','SubjID','QC_gleb','description_gleb']]\n",
    "gleb_abide1_df['QC_gleb'] = gleb_abide1_df['QC_gleb'].str.strip()\n",
    "gleb_abide1_df.tail()"
   ]
  },
  {
   "cell_type": "markdown",
   "metadata": {},
   "source": [
    "### Parse Maarten data"
   ]
  },
  {
   "cell_type": "code",
   "execution_count": 11,
   "metadata": {},
   "outputs": [
    {
     "data": {
      "text/html": [
       "<div>\n",
       "<style scoped>\n",
       "    .dataframe tbody tr th:only-of-type {\n",
       "        vertical-align: middle;\n",
       "    }\n",
       "\n",
       "    .dataframe tbody tr th {\n",
       "        vertical-align: top;\n",
       "    }\n",
       "\n",
       "    .dataframe thead th {\n",
       "        text-align: right;\n",
       "    }\n",
       "</style>\n",
       "<table border=\"1\" class=\"dataframe\">\n",
       "  <thead>\n",
       "    <tr style=\"text-align: right;\">\n",
       "      <th></th>\n",
       "      <th>SITE_ID</th>\n",
       "      <th>SUB_ID</th>\n",
       "      <th>filter_age</th>\n",
       "      <th>filter_FIQ</th>\n",
       "      <th>filter_MRI</th>\n",
       "      <th>filter_missingMRI</th>\n",
       "      <th>filter_manualMRI</th>\n",
       "      <th>QC_maarten</th>\n",
       "      <th>SubjID</th>\n",
       "    </tr>\n",
       "  </thead>\n",
       "  <tbody>\n",
       "    <tr>\n",
       "      <th>0</th>\n",
       "      <td>1</td>\n",
       "      <td>51456</td>\n",
       "      <td>1</td>\n",
       "      <td>0</td>\n",
       "      <td>0</td>\n",
       "      <td>0</td>\n",
       "      <td>0</td>\n",
       "      <td>0</td>\n",
       "      <td>0051456</td>\n",
       "    </tr>\n",
       "    <tr>\n",
       "      <th>1</th>\n",
       "      <td>1</td>\n",
       "      <td>51457</td>\n",
       "      <td>0</td>\n",
       "      <td>0</td>\n",
       "      <td>0</td>\n",
       "      <td>0</td>\n",
       "      <td>0</td>\n",
       "      <td>0</td>\n",
       "      <td>0051457</td>\n",
       "    </tr>\n",
       "    <tr>\n",
       "      <th>2</th>\n",
       "      <td>1</td>\n",
       "      <td>51458</td>\n",
       "      <td>1</td>\n",
       "      <td>0</td>\n",
       "      <td>0</td>\n",
       "      <td>0</td>\n",
       "      <td>0</td>\n",
       "      <td>0</td>\n",
       "      <td>0051458</td>\n",
       "    </tr>\n",
       "    <tr>\n",
       "      <th>3</th>\n",
       "      <td>1</td>\n",
       "      <td>51459</td>\n",
       "      <td>0</td>\n",
       "      <td>0</td>\n",
       "      <td>0</td>\n",
       "      <td>0</td>\n",
       "      <td>0</td>\n",
       "      <td>0</td>\n",
       "      <td>0051459</td>\n",
       "    </tr>\n",
       "    <tr>\n",
       "      <th>4</th>\n",
       "      <td>1</td>\n",
       "      <td>51460</td>\n",
       "      <td>1</td>\n",
       "      <td>1</td>\n",
       "      <td>0</td>\n",
       "      <td>0</td>\n",
       "      <td>0</td>\n",
       "      <td>0</td>\n",
       "      <td>0051460</td>\n",
       "    </tr>\n",
       "  </tbody>\n",
       "</table>\n",
       "</div>"
      ],
      "text/plain": [
       "   SITE_ID SUB_ID  filter_age  filter_FIQ  filter_MRI  filter_missingMRI  \\\n",
       "0        1  51456           1           0           0                  0   \n",
       "1        1  51457           0           0           0                  0   \n",
       "2        1  51458           1           0           0                  0   \n",
       "3        1  51459           0           0           0                  0   \n",
       "4        1  51460           1           1           0                  0   \n",
       "\n",
       "   filter_manualMRI  QC_maarten   SubjID  \n",
       "0                 0           0  0051456  \n",
       "1                 0           0  0051457  \n",
       "2                 0           0  0051458  \n",
       "3                 0           0  0051459  \n",
       "4                 0           0  0051460  "
      ]
     },
     "execution_count": 11,
     "metadata": {},
     "output_type": "execute_result"
    }
   ],
   "source": [
    "maarten_abide1_df[['filter_FIQ','filter_MRI','filter_missingMRI','filter_manualMRI']].astype('int')\n",
    "maarten_abide1_df['QC_maarten'] = maarten_abide1_df.loc[:,['filter_MRI','filter_missingMRI','filter_manualMRI']].sum(axis=1)\n",
    "maarten_abide1_df['SubjID']='00' + maarten_abide1_df['SUB_ID']\n",
    "maarten_abide1_df.head()"
   ]
  },
  {
   "cell_type": "markdown",
   "metadata": {},
   "source": [
    "### Create merged master"
   ]
  },
  {
   "cell_type": "code",
   "execution_count": 12,
   "metadata": {
    "scrolled": true
   },
   "outputs": [
    {
     "data": {
      "text/html": [
       "<div>\n",
       "<style scoped>\n",
       "    .dataframe tbody tr th:only-of-type {\n",
       "        vertical-align: middle;\n",
       "    }\n",
       "\n",
       "    .dataframe tbody tr th {\n",
       "        vertical-align: top;\n",
       "    }\n",
       "\n",
       "    .dataframe thead th {\n",
       "        text-align: right;\n",
       "    }\n",
       "</style>\n",
       "<table border=\"1\" class=\"dataframe\">\n",
       "  <thead>\n",
       "    <tr style=\"text-align: right;\">\n",
       "      <th></th>\n",
       "      <th>Site_ID</th>\n",
       "      <th>SubjID</th>\n",
       "      <th>QC_gleb</th>\n",
       "      <th>description_gleb</th>\n",
       "      <th>QC_maarten</th>\n",
       "    </tr>\n",
       "  </thead>\n",
       "  <tbody>\n",
       "    <tr>\n",
       "      <th>0</th>\n",
       "      <td>Caltech</td>\n",
       "      <td>0051456</td>\n",
       "      <td>-1</td>\n",
       "      <td>gradient too high around sensorimotor strip an...</td>\n",
       "      <td>0</td>\n",
       "    </tr>\n",
       "    <tr>\n",
       "      <th>1</th>\n",
       "      <td>Caltech</td>\n",
       "      <td>0051457</td>\n",
       "      <td>-1</td>\n",
       "      <td>gradient too high around sm strip and to some ...</td>\n",
       "      <td>0</td>\n",
       "    </tr>\n",
       "    <tr>\n",
       "      <th>2</th>\n",
       "      <td>Caltech</td>\n",
       "      <td>0051458</td>\n",
       "      <td>-1</td>\n",
       "      <td>slightly too high gradient on sm strip</td>\n",
       "      <td>0</td>\n",
       "    </tr>\n",
       "    <tr>\n",
       "      <th>3</th>\n",
       "      <td>Caltech</td>\n",
       "      <td>0051459</td>\n",
       "      <td>-1</td>\n",
       "      <td>more problematic in V1 than in sm strip; some ...</td>\n",
       "      <td>0</td>\n",
       "    </tr>\n",
       "    <tr>\n",
       "      <th>4</th>\n",
       "      <td>Caltech</td>\n",
       "      <td>0051460</td>\n",
       "      <td>-1</td>\n",
       "      <td>V1 worse than sm strip)</td>\n",
       "      <td>0</td>\n",
       "    </tr>\n",
       "  </tbody>\n",
       "</table>\n",
       "</div>"
      ],
      "text/plain": [
       "   Site_ID   SubjID QC_gleb  \\\n",
       "0  Caltech  0051456      -1   \n",
       "1  Caltech  0051457      -1   \n",
       "2  Caltech  0051458      -1   \n",
       "3  Caltech  0051459      -1   \n",
       "4  Caltech  0051460      -1   \n",
       "\n",
       "                                    description_gleb  QC_maarten  \n",
       "0  gradient too high around sensorimotor strip an...           0  \n",
       "1  gradient too high around sm strip and to some ...           0  \n",
       "2             slightly too high gradient on sm strip           0  \n",
       "3  more problematic in V1 than in sm strip; some ...           0  \n",
       "4                            V1 worse than sm strip)           0  "
      ]
     },
     "execution_count": 12,
     "metadata": {},
     "output_type": "execute_result"
    }
   ],
   "source": [
    "master_QC_df = pd.merge(gleb_abide1_df,maarten_abide1_df[['SubjID','QC_maarten']],on='SubjID',how='inner')\n",
    "master_QC_df.head()"
   ]
  },
  {
   "cell_type": "code",
   "execution_count": 13,
   "metadata": {},
   "outputs": [],
   "source": [
    "#master_QC_df.to_csv(qc_dir + 'master_QC_table.csv')"
   ]
  },
  {
   "cell_type": "code",
   "execution_count": null,
   "metadata": {},
   "outputs": [],
   "source": []
  }
 ],
 "metadata": {
  "kernelspec": {
   "display_name": "Python 3",
   "language": "python",
   "name": "python3"
  },
  "language_info": {
   "codemirror_mode": {
    "name": "ipython",
    "version": 3
   },
   "file_extension": ".py",
   "mimetype": "text/x-python",
   "name": "python",
   "nbconvert_exporter": "python",
   "pygments_lexer": "ipython3",
   "version": "3.7.3"
  }
 },
 "nbformat": 4,
 "nbformat_minor": 2
}
